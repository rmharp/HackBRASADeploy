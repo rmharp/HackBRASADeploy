{
 "cells": [
  {
   "cell_type": "code",
   "execution_count": 74,
   "metadata": {},
   "outputs": [],
   "source": [
    "## Terminals (order): michael, riley, kensho\n",
    "\n",
    "import sys\n",
    "import os\n",
    "import pandas as pd\n",
    "import numpy as np\n",
    "import sklearn as sk\n",
    "import pyarrow as pa\n",
    "import plotly as px\n",
    "import plotly.graph_objects as go\n",
    "import nbformat\n",
    "\n",
    "import gdown\n",
    "from IPython.display import display, HTML"
   ]
  },
  {
   "cell_type": "code",
   "execution_count": 65,
   "metadata": {},
   "outputs": [
    {
     "name": "stderr",
     "output_type": "stream",
     "text": [
      "Downloading...\n",
      "From: https://drive.google.com/uc?id=1dzL_SWBkBs5xrUxuGQTm04oe3USgkL9u\n",
      "To: /Users/michael/Desktop/Personal Projects/HackBRASA/backend/bank.parquet\n",
      "100%|██████████| 1.57M/1.57M [00:00<00:00, 11.0MB/s]\n",
      "Downloading...\n",
      "From: https://drive.google.com/uc?id=1QK-VgSU3AxXUw330KjYFUj8S9hzKJsG6\n",
      "To: /Users/michael/Desktop/Personal Projects/HackBRASA/backend/sales.parquet\n",
      "100%|██████████| 6.37M/6.37M [00:00<00:00, 23.6MB/s]\n",
      "Downloading...\n",
      "From: https://drive.google.com/uc?id=1JN0bR84sgZ_o4wjKPBUmz45NeEEkVgt7\n",
      "To: /Users/michael/Desktop/Personal Projects/HackBRASA/backend/mcc.parquet\n",
      "100%|██████████| 57.3k/57.3k [00:00<00:00, 1.78MB/s]\n"
     ]
    }
   ],
   "source": [
    "### Initial Setup: DO NOT RUN THIS CELL\n",
    "\n",
    "data = {\n",
    "    'bank': \"1dzL_SWBkBs5xrUxuGQTm04oe3USgkL9u\",    # banking data\n",
    "    'sales': \"1QK-VgSU3AxXUw330KjYFUj8S9hzKJsG6\",   # sales data\n",
    "    'mcc': \"1JN0bR84sgZ_o4wjKPBUmz45NeEEkVgt7\",     # mcc description\n",
    "}\n",
    "\n",
    "# Download all files from Google Drive\n",
    "for name, file_id in data.items():\n",
    "    gdown.download(f'https://drive.google.com/uc?id={file_id}', name + '.parquet', quiet=False)\n",
    "    \n",
    "# Read all files and store on a dictionary of pandas dataframes\n",
    "df = {}\n",
    "for name in data.keys():\n",
    "    df[name] = pd.read_parquet(name + '.parquet')\n",
    "    \n",
    "# Set pandas option to display all columns\n",
    "pd.set_option('display.max_columns', None)\n",
    "\n",
    "# Custom CSS to enable horizontal scrolling\n",
    "scrolling_css = \"\"\"\n",
    "<style>\n",
    "    .dataframe-div {\n",
    "        overflow-x: auto;\n",
    "        white-space: nowrap;\n",
    "    }\n",
    "</style>\n",
    "\"\"\""
   ]
  },
  {
   "cell_type": "code",
   "execution_count": null,
   "metadata": {},
   "outputs": [],
   "source": [
    "import subprocess\n",
    "import sys\n",
    "\n",
    "def require(package):\n",
    "    try:\n",
    "        # Try to import the package\n",
    "        globals()[package] = __import__(package)\n",
    "        return True\n",
    "    except ImportError:\n",
    "        print(f\"{package} is not installed. Trying to install via Homebrew...\")\n",
    "        try:\n",
    "            # Attempt to install the package using Homebrew\n",
    "            subprocess.check_call([\"brew\", \"install\", package])\n",
    "            # After installation, try importing again\n",
    "            globals()[package] = __import__(package)\n",
    "            return True\n",
    "        except subprocess.CalledProcessError:\n",
    "            print(f\"Failed to install {package} via Homebrew. Trying pip with --break-system-packages...\")\n",
    "            try:\n",
    "                # If Homebrew fails, try installing via pip with the break-system-packages flag\n",
    "                subprocess.check_call([sys.executable, \"-m\", \"pip\", \"install\", package, \"--break-system-packages\"])\n",
    "                globals()[package] = __import__(package)\n",
    "                return True\n",
    "            except ImportError:\n",
    "                print(f\"Failed to install {package}.\")\n",
    "                return False\n"
   ]
  },
  {
   "cell_type": "code",
   "execution_count": 42,
   "metadata": {},
   "outputs": [],
   "source": [
    "def display_head_with_scroll(df, num_rows=5):\n",
    "    \"\"\"\n",
    "    Display a DataFrame with horizontal scrolling enabled.\n",
    "    \n",
    "    Parameters:\n",
    "    df (pd.DataFrame): The DataFrame to display.\n",
    "    num_rows (int): The number of rows to display. Default is 5.\n",
    "    \"\"\"\n",
    "    display(HTML(scrolling_css + df.head(num_rows).to_html(classes='dataframe-div')))"
   ]
  },
  {
   "cell_type": "markdown",
   "metadata": {},
   "source": [
    "## Michael's EDA"
   ]
  },
  {
   "cell_type": "code",
   "execution_count": 43,
   "metadata": {},
   "outputs": [
    {
     "name": "stdout",
     "output_type": "stream",
     "text": [
      "(264933, 7)\n"
     ]
    },
    {
     "data": {
      "text/html": [
       "\n",
       "<style>\n",
       "    .dataframe-div {\n",
       "        overflow-x: auto;\n",
       "        white-space: nowrap;\n",
       "    }\n",
       "</style>\n",
       "<table border=\"1\" class=\"dataframe dataframe-div\">\n",
       "  <thead>\n",
       "    <tr style=\"text-align: right;\">\n",
       "      <th></th>\n",
       "      <th>document_id</th>\n",
       "      <th>date_time</th>\n",
       "      <th>value</th>\n",
       "      <th>card_number</th>\n",
       "      <th>type</th>\n",
       "      <th>mcc</th>\n",
       "      <th>state</th>\n",
       "    </tr>\n",
       "  </thead>\n",
       "  <tbody>\n",
       "    <tr>\n",
       "      <th>0</th>\n",
       "      <td>9132021237731236867</td>\n",
       "      <td>2022-12-08 01:09:53.352600</td>\n",
       "      <td>240.0</td>\n",
       "      <td></td>\n",
       "      <td>Pix</td>\n",
       "      <td>5499</td>\n",
       "      <td>RN</td>\n",
       "    </tr>\n",
       "    <tr>\n",
       "      <th>1</th>\n",
       "      <td>9132021237731236867</td>\n",
       "      <td>2022-12-04 03:04:08.115900</td>\n",
       "      <td>88.0</td>\n",
       "      <td></td>\n",
       "      <td>Pix</td>\n",
       "      <td>5499</td>\n",
       "      <td>RN</td>\n",
       "    </tr>\n",
       "    <tr>\n",
       "      <th>2</th>\n",
       "      <td>9132021237731236867</td>\n",
       "      <td>2022-12-07 03:07:05.865600</td>\n",
       "      <td>76.0</td>\n",
       "      <td></td>\n",
       "      <td>Pix</td>\n",
       "      <td>5499</td>\n",
       "      <td>RN</td>\n",
       "    </tr>\n",
       "    <tr>\n",
       "      <th>3</th>\n",
       "      <td>9132021237731236867</td>\n",
       "      <td>2022-12-05 02:45:01.539400</td>\n",
       "      <td>48.0</td>\n",
       "      <td></td>\n",
       "      <td>Pix</td>\n",
       "      <td>5499</td>\n",
       "      <td>RN</td>\n",
       "    </tr>\n",
       "    <tr>\n",
       "      <th>4</th>\n",
       "      <td>9132021237731236867</td>\n",
       "      <td>2022-12-08 03:10:59.259900</td>\n",
       "      <td>8.0</td>\n",
       "      <td></td>\n",
       "      <td>Pix</td>\n",
       "      <td>5499</td>\n",
       "      <td>RN</td>\n",
       "    </tr>\n",
       "  </tbody>\n",
       "</table>"
      ],
      "text/plain": [
       "<IPython.core.display.HTML object>"
      ]
     },
     "metadata": {},
     "output_type": "display_data"
    }
   ],
   "source": [
    "print(df['sales'].shape)\n",
    "display_head_with_scroll(df['sales'])"
   ]
  },
  {
   "cell_type": "code",
   "execution_count": 44,
   "metadata": {},
   "outputs": [
    {
     "name": "stdout",
     "output_type": "stream",
     "text": [
      "(66189, 5)\n"
     ]
    },
    {
     "data": {
      "text/html": [
       "\n",
       "<style>\n",
       "    .dataframe-div {\n",
       "        overflow-x: auto;\n",
       "        white-space: nowrap;\n",
       "    }\n",
       "</style>\n",
       "<table border=\"1\" class=\"dataframe dataframe-div\">\n",
       "  <thead>\n",
       "    <tr style=\"text-align: right;\">\n",
       "      <th></th>\n",
       "      <th>document_id</th>\n",
       "      <th>date_time</th>\n",
       "      <th>value</th>\n",
       "      <th>counterparty_document</th>\n",
       "      <th>type</th>\n",
       "    </tr>\n",
       "  </thead>\n",
       "  <tbody>\n",
       "    <tr>\n",
       "      <th>0</th>\n",
       "      <td>5615027685943047372</td>\n",
       "      <td>2023-02-08 19:02:36.289545</td>\n",
       "      <td>400000.0</td>\n",
       "      <td>2701672467485454263</td>\n",
       "      <td>pix_in</td>\n",
       "    </tr>\n",
       "    <tr>\n",
       "      <th>1</th>\n",
       "      <td>6321206883189082161</td>\n",
       "      <td>2023-05-21 17:45:10.407340</td>\n",
       "      <td>330000.0</td>\n",
       "      <td>5674766186099233601</td>\n",
       "      <td>pix_in</td>\n",
       "    </tr>\n",
       "    <tr>\n",
       "      <th>2</th>\n",
       "      <td>6204525363384429949</td>\n",
       "      <td>2023-05-19 14:53:21.567099</td>\n",
       "      <td>200000.0</td>\n",
       "      <td>2193750750108086695</td>\n",
       "      <td>pix_out</td>\n",
       "    </tr>\n",
       "    <tr>\n",
       "      <th>3</th>\n",
       "      <td>6347736874608223396</td>\n",
       "      <td>2023-04-05 12:13:38.056087</td>\n",
       "      <td>200000.0</td>\n",
       "      <td>904790816053028747</td>\n",
       "      <td>pix_out</td>\n",
       "    </tr>\n",
       "    <tr>\n",
       "      <th>4</th>\n",
       "      <td>6347736874608223396</td>\n",
       "      <td>2023-04-07 23:44:04.727672</td>\n",
       "      <td>200000.0</td>\n",
       "      <td>904790816053028747</td>\n",
       "      <td>pix_out</td>\n",
       "    </tr>\n",
       "  </tbody>\n",
       "</table>"
      ],
      "text/plain": [
       "<IPython.core.display.HTML object>"
      ]
     },
     "metadata": {},
     "output_type": "display_data"
    }
   ],
   "source": [
    "print(df['bank'].shape)\n",
    "display_head_with_scroll(df['bank'])"
   ]
  },
  {
   "cell_type": "code",
   "execution_count": 45,
   "metadata": {},
   "outputs": [
    {
     "name": "stdout",
     "output_type": "stream",
     "text": [
      "(981, 6)\n"
     ]
    },
    {
     "data": {
      "text/html": [
       "\n",
       "<style>\n",
       "    .dataframe-div {\n",
       "        overflow-x: auto;\n",
       "        white-space: nowrap;\n",
       "    }\n",
       "</style>\n",
       "<table border=\"1\" class=\"dataframe dataframe-div\">\n",
       "  <thead>\n",
       "    <tr style=\"text-align: right;\">\n",
       "      <th></th>\n",
       "      <th>mcc</th>\n",
       "      <th>edited_description</th>\n",
       "      <th>combined_description</th>\n",
       "      <th>usda_description</th>\n",
       "      <th>irs_description</th>\n",
       "      <th>irs_reportable</th>\n",
       "    </tr>\n",
       "  </thead>\n",
       "  <tbody>\n",
       "    <tr>\n",
       "      <th>0</th>\n",
       "      <td>742</td>\n",
       "      <td>Veterinary Services</td>\n",
       "      <td>Veterinary Services</td>\n",
       "      <td>Veterinary Services</td>\n",
       "      <td>Veterinary Services</td>\n",
       "      <td>Yes</td>\n",
       "    </tr>\n",
       "    <tr>\n",
       "      <th>1</th>\n",
       "      <td>763</td>\n",
       "      <td>Agricultural Co-operatives</td>\n",
       "      <td>Agricultural Co-operatives</td>\n",
       "      <td>Agricultural Co-operatives</td>\n",
       "      <td>Agricultural Cooperative</td>\n",
       "      <td>Yes</td>\n",
       "    </tr>\n",
       "    <tr>\n",
       "      <th>2</th>\n",
       "      <td>780</td>\n",
       "      <td>Horticultural Services, Landscaping Services</td>\n",
       "      <td>Horticultural Services, Landscaping Services</td>\n",
       "      <td>Horticultural Services</td>\n",
       "      <td>Landscaping Services</td>\n",
       "      <td>Yes</td>\n",
       "    </tr>\n",
       "    <tr>\n",
       "      <th>3</th>\n",
       "      <td>1520</td>\n",
       "      <td>General Contractors-Residential and Commercial</td>\n",
       "      <td>General Contractors-Residential and Commercial</td>\n",
       "      <td>General Contractors-Residential and Commercial</td>\n",
       "      <td>General Contractors</td>\n",
       "      <td>Yes</td>\n",
       "    </tr>\n",
       "    <tr>\n",
       "      <th>4</th>\n",
       "      <td>1711</td>\n",
       "      <td>Air Conditioning Contractors – Sales and Installation, Heating Contractors – Sales, Service, Installation</td>\n",
       "      <td>Air Conditioning Contractors – Sales and Installation, Heating Contractors – Sales, Service, Installation</td>\n",
       "      <td>Air Conditioning Contractors – Sales and Installation</td>\n",
       "      <td>Heating, Plumbing, A/C</td>\n",
       "      <td>Yes</td>\n",
       "    </tr>\n",
       "  </tbody>\n",
       "</table>"
      ],
      "text/plain": [
       "<IPython.core.display.HTML object>"
      ]
     },
     "metadata": {},
     "output_type": "display_data"
    }
   ],
   "source": [
    "print(df['mcc'].shape)\n",
    "display_head_with_scroll(df['mcc'])"
   ]
  },
  {
   "cell_type": "code",
   "execution_count": 46,
   "metadata": {},
   "outputs": [
    {
     "data": {
      "text/html": [
       "<div>\n",
       "<style scoped>\n",
       "    .dataframe tbody tr th:only-of-type {\n",
       "        vertical-align: middle;\n",
       "    }\n",
       "\n",
       "    .dataframe tbody tr th {\n",
       "        vertical-align: top;\n",
       "    }\n",
       "\n",
       "    .dataframe thead th {\n",
       "        text-align: right;\n",
       "    }\n",
       "</style>\n",
       "<table border=\"1\" class=\"dataframe\">\n",
       "  <thead>\n",
       "    <tr style=\"text-align: right;\">\n",
       "      <th></th>\n",
       "      <th>document_id</th>\n",
       "      <th>date_time</th>\n",
       "      <th>value</th>\n",
       "      <th>card_number</th>\n",
       "      <th>type</th>\n",
       "      <th>mcc</th>\n",
       "      <th>state</th>\n",
       "      <th>edited_description</th>\n",
       "    </tr>\n",
       "  </thead>\n",
       "  <tbody>\n",
       "    <tr>\n",
       "      <th>0</th>\n",
       "      <td>9132021237731236867</td>\n",
       "      <td>2022-12-08 01:09:53.352600</td>\n",
       "      <td>240.0</td>\n",
       "      <td></td>\n",
       "      <td>Pix</td>\n",
       "      <td>5499</td>\n",
       "      <td>RN</td>\n",
       "      <td>Misc. Food Stores – Convenience Stores and Spe...</td>\n",
       "    </tr>\n",
       "    <tr>\n",
       "      <th>1</th>\n",
       "      <td>9132021237731236867</td>\n",
       "      <td>2022-12-04 03:04:08.115900</td>\n",
       "      <td>88.0</td>\n",
       "      <td></td>\n",
       "      <td>Pix</td>\n",
       "      <td>5499</td>\n",
       "      <td>RN</td>\n",
       "      <td>Misc. Food Stores – Convenience Stores and Spe...</td>\n",
       "    </tr>\n",
       "    <tr>\n",
       "      <th>2</th>\n",
       "      <td>9132021237731236867</td>\n",
       "      <td>2022-12-07 03:07:05.865600</td>\n",
       "      <td>76.0</td>\n",
       "      <td></td>\n",
       "      <td>Pix</td>\n",
       "      <td>5499</td>\n",
       "      <td>RN</td>\n",
       "      <td>Misc. Food Stores – Convenience Stores and Spe...</td>\n",
       "    </tr>\n",
       "    <tr>\n",
       "      <th>3</th>\n",
       "      <td>9132021237731236867</td>\n",
       "      <td>2022-12-05 02:45:01.539400</td>\n",
       "      <td>48.0</td>\n",
       "      <td></td>\n",
       "      <td>Pix</td>\n",
       "      <td>5499</td>\n",
       "      <td>RN</td>\n",
       "      <td>Misc. Food Stores – Convenience Stores and Spe...</td>\n",
       "    </tr>\n",
       "    <tr>\n",
       "      <th>4</th>\n",
       "      <td>9132021237731236867</td>\n",
       "      <td>2022-12-08 03:10:59.259900</td>\n",
       "      <td>8.0</td>\n",
       "      <td></td>\n",
       "      <td>Pix</td>\n",
       "      <td>5499</td>\n",
       "      <td>RN</td>\n",
       "      <td>Misc. Food Stores – Convenience Stores and Spe...</td>\n",
       "    </tr>\n",
       "  </tbody>\n",
       "</table>\n",
       "</div>"
      ],
      "text/plain": [
       "           document_id                  date_time  value card_number type  \\\n",
       "0  9132021237731236867 2022-12-08 01:09:53.352600  240.0              Pix   \n",
       "1  9132021237731236867 2022-12-04 03:04:08.115900   88.0              Pix   \n",
       "2  9132021237731236867 2022-12-07 03:07:05.865600   76.0              Pix   \n",
       "3  9132021237731236867 2022-12-05 02:45:01.539400   48.0              Pix   \n",
       "4  9132021237731236867 2022-12-08 03:10:59.259900    8.0              Pix   \n",
       "\n",
       "    mcc state                                 edited_description  \n",
       "0  5499    RN  Misc. Food Stores – Convenience Stores and Spe...  \n",
       "1  5499    RN  Misc. Food Stores – Convenience Stores and Spe...  \n",
       "2  5499    RN  Misc. Food Stores – Convenience Stores and Spe...  \n",
       "3  5499    RN  Misc. Food Stores – Convenience Stores and Spe...  \n",
       "4  5499    RN  Misc. Food Stores – Convenience Stores and Spe...  "
      ]
     },
     "execution_count": 46,
     "metadata": {},
     "output_type": "execute_result"
    }
   ],
   "source": [
    "#Perform a left join of the MCC dictionary (mcc_df) into sales_df on the 'mcc' column\n",
    "final_df = pd.merge(df['sales'], df['mcc'], on='mcc', how='left')\n",
    "final_df = final_df.iloc[:, :-4]\n",
    "final_df.head(5)"
   ]
  },
  {
   "cell_type": "code",
   "execution_count": 47,
   "metadata": {},
   "outputs": [
    {
     "name": "stdout",
     "output_type": "stream",
     "text": [
      "Earliest date: 2022-12-01 02:11:50.812200\n",
      "Latest date: 2023-05-31 02:03:41.934200\n"
     ]
    }
   ],
   "source": [
    "earliest_date = final_df['date_time'].min()\n",
    "latest_date = final_df['date_time'].max()\n",
    "\n",
    "print(\"Earliest date:\", earliest_date)\n",
    "print(\"Latest date:\", latest_date)"
   ]
  },
  {
   "cell_type": "code",
   "execution_count": 63,
   "metadata": {},
   "outputs": [
    {
     "name": "stdout",
     "output_type": "stream",
     "text": [
      "document_id\n",
      "5392937379751703376    83015198.12\n",
      "4619042854388500300    73271707.08\n",
      "8620618076836167965    71066018.52\n",
      "2586717201780273273    67315595.96\n",
      "5952522905932206715    56150164.56\n",
      "                          ...     \n",
      "648260413505740527       143935.48\n",
      "6381288718598539296      141024.12\n",
      "1898616423937443          85709.60\n",
      "453832840298988785        85566.84\n",
      "5141494222495776041       85043.32\n",
      "Name: value, Length: 100, dtype: float64\n"
     ]
    }
   ],
   "source": [
    "sum_values = final_df.groupby('document_id')['value'].sum()\n",
    "sum_values_sorted = sum_values.sort_values(ascending=False)"
   ]
  },
  {
   "cell_type": "code",
   "execution_count": 75,
   "metadata": {},
   "outputs": [
    {
     "ename": "ValueError",
     "evalue": "Mime type rendering requires nbformat>=4.2.0 but it is not installed",
     "output_type": "error",
     "traceback": [
      "\u001b[0;31m---------------------------------------------------------------------------\u001b[0m",
      "\u001b[0;31mValueError\u001b[0m                                Traceback (most recent call last)",
      "Cell \u001b[0;32mIn[75], line 5\u001b[0m\n\u001b[1;32m      1\u001b[0m table_data \u001b[38;5;241m=\u001b[39m sum_values_sorted\u001b[38;5;241m.\u001b[39mreset_index()\u001b[38;5;241m.\u001b[39mrename(columns\u001b[38;5;241m=\u001b[39m{\u001b[38;5;124m'\u001b[39m\u001b[38;5;124mdocument_id\u001b[39m\u001b[38;5;124m'\u001b[39m: \u001b[38;5;124m'\u001b[39m\u001b[38;5;124mDocument ID\u001b[39m\u001b[38;5;124m'\u001b[39m, \u001b[38;5;124m'\u001b[39m\u001b[38;5;124mvalue\u001b[39m\u001b[38;5;124m'\u001b[39m: \u001b[38;5;124m'\u001b[39m\u001b[38;5;124mTotal Sales Revenue\u001b[39m\u001b[38;5;124m'\u001b[39m})\n\u001b[1;32m      2\u001b[0m fig \u001b[38;5;241m=\u001b[39m go\u001b[38;5;241m.\u001b[39mFigure(data\u001b[38;5;241m=\u001b[39m[go\u001b[38;5;241m.\u001b[39mTable(header\u001b[38;5;241m=\u001b[39m\u001b[38;5;28mdict\u001b[39m(values\u001b[38;5;241m=\u001b[39m\u001b[38;5;28mlist\u001b[39m(table_data\u001b[38;5;241m.\u001b[39mcolumns)),\n\u001b[1;32m      3\u001b[0m                                cells\u001b[38;5;241m=\u001b[39m\u001b[38;5;28mdict\u001b[39m(values\u001b[38;5;241m=\u001b[39m[table_data[\u001b[38;5;124m'\u001b[39m\u001b[38;5;124mDocument ID\u001b[39m\u001b[38;5;124m'\u001b[39m], table_data[\u001b[38;5;124m'\u001b[39m\u001b[38;5;124mTotal Sales Revenue\u001b[39m\u001b[38;5;124m'\u001b[39m]]))\n\u001b[1;32m      4\u001b[0m                      ])\n\u001b[0;32m----> 5\u001b[0m \u001b[43mfig\u001b[49m\u001b[38;5;241;43m.\u001b[39;49m\u001b[43mshow\u001b[49m\u001b[43m(\u001b[49m\u001b[43m)\u001b[49m\n",
      "File \u001b[0;32m/Library/Frameworks/Python.framework/Versions/3.11/lib/python3.11/site-packages/plotly/basedatatypes.py:3410\u001b[0m, in \u001b[0;36mBaseFigure.show\u001b[0;34m(self, *args, **kwargs)\u001b[0m\n\u001b[1;32m   3377\u001b[0m \u001b[38;5;250m\u001b[39m\u001b[38;5;124;03m\"\"\"\u001b[39;00m\n\u001b[1;32m   3378\u001b[0m \u001b[38;5;124;03mShow a figure using either the default renderer(s) or the renderer(s)\u001b[39;00m\n\u001b[1;32m   3379\u001b[0m \u001b[38;5;124;03mspecified by the renderer argument\u001b[39;00m\n\u001b[0;32m   (...)\u001b[0m\n\u001b[1;32m   3406\u001b[0m \u001b[38;5;124;03mNone\u001b[39;00m\n\u001b[1;32m   3407\u001b[0m \u001b[38;5;124;03m\"\"\"\u001b[39;00m\n\u001b[1;32m   3408\u001b[0m \u001b[38;5;28;01mimport\u001b[39;00m \u001b[38;5;21;01mplotly\u001b[39;00m\u001b[38;5;21;01m.\u001b[39;00m\u001b[38;5;21;01mio\u001b[39;00m \u001b[38;5;28;01mas\u001b[39;00m \u001b[38;5;21;01mpio\u001b[39;00m\n\u001b[0;32m-> 3410\u001b[0m \u001b[38;5;28;01mreturn\u001b[39;00m \u001b[43mpio\u001b[49m\u001b[38;5;241;43m.\u001b[39;49m\u001b[43mshow\u001b[49m\u001b[43m(\u001b[49m\u001b[38;5;28;43mself\u001b[39;49m\u001b[43m,\u001b[49m\u001b[43m \u001b[49m\u001b[38;5;241;43m*\u001b[39;49m\u001b[43margs\u001b[49m\u001b[43m,\u001b[49m\u001b[43m \u001b[49m\u001b[38;5;241;43m*\u001b[39;49m\u001b[38;5;241;43m*\u001b[39;49m\u001b[43mkwargs\u001b[49m\u001b[43m)\u001b[49m\n",
      "File \u001b[0;32m/Library/Frameworks/Python.framework/Versions/3.11/lib/python3.11/site-packages/plotly/io/_renderers.py:394\u001b[0m, in \u001b[0;36mshow\u001b[0;34m(fig, renderer, validate, **kwargs)\u001b[0m\n\u001b[1;32m    389\u001b[0m         \u001b[38;5;28;01mraise\u001b[39;00m \u001b[38;5;167;01mValueError\u001b[39;00m(\n\u001b[1;32m    390\u001b[0m             \u001b[38;5;124m\"\u001b[39m\u001b[38;5;124mMime type rendering requires ipython but it is not installed\u001b[39m\u001b[38;5;124m\"\u001b[39m\n\u001b[1;32m    391\u001b[0m         )\n\u001b[1;32m    393\u001b[0m     \u001b[38;5;28;01mif\u001b[39;00m \u001b[38;5;129;01mnot\u001b[39;00m nbformat \u001b[38;5;129;01mor\u001b[39;00m Version(nbformat\u001b[38;5;241m.\u001b[39m__version__) \u001b[38;5;241m<\u001b[39m Version(\u001b[38;5;124m\"\u001b[39m\u001b[38;5;124m4.2.0\u001b[39m\u001b[38;5;124m\"\u001b[39m):\n\u001b[0;32m--> 394\u001b[0m         \u001b[38;5;28;01mraise\u001b[39;00m \u001b[38;5;167;01mValueError\u001b[39;00m(\n\u001b[1;32m    395\u001b[0m             \u001b[38;5;124m\"\u001b[39m\u001b[38;5;124mMime type rendering requires nbformat>=4.2.0 but it is not installed\u001b[39m\u001b[38;5;124m\"\u001b[39m\n\u001b[1;32m    396\u001b[0m         )\n\u001b[1;32m    398\u001b[0m     ipython_display\u001b[38;5;241m.\u001b[39mdisplay(bundle, raw\u001b[38;5;241m=\u001b[39m\u001b[38;5;28;01mTrue\u001b[39;00m)\n\u001b[1;32m    400\u001b[0m \u001b[38;5;66;03m# external renderers\u001b[39;00m\n",
      "\u001b[0;31mValueError\u001b[0m: Mime type rendering requires nbformat>=4.2.0 but it is not installed"
     ]
    }
   ],
   "source": [
    "'''\n",
    "table_data = sum_values_sorted.reset_index().rename(columns={'document_id': 'Document ID', 'value': 'Total Sales Revenue'})\n",
    "fig = go.Figure(data=[go.Table(header=dict(values=list(table_data.columns)),\n",
    "                               cells=dict(values=[table_data['Document ID'], table_data['Total Sales Revenue']]))\n",
    "                     ])\n",
    "fig.show()\n",
    "'''"
   ]
  },
  {
   "cell_type": "code",
   "execution_count": 72,
   "metadata": {},
   "outputs": [
    {
     "data": {
      "text/plain": [
       "True"
      ]
     },
     "execution_count": 72,
     "metadata": {},
     "output_type": "execute_result"
    }
   ],
   "source": []
  }
 ],
 "metadata": {
  "kernelspec": {
   "display_name": "Python 3",
   "language": "python",
   "name": "python3"
  },
  "language_info": {
   "codemirror_mode": {
    "name": "ipython",
    "version": 3
   },
   "file_extension": ".py",
   "mimetype": "text/x-python",
   "name": "python",
   "nbconvert_exporter": "python",
   "pygments_lexer": "ipython3",
   "version": "3.11.5"
  }
 },
 "nbformat": 4,
 "nbformat_minor": 2
}
