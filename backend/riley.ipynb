{
 "cells": [
  {
   "cell_type": "code",
   "execution_count": 1,
   "metadata": {},
   "outputs": [
    {
     "name": "stderr",
     "output_type": "stream",
     "text": [
      "Downloading...\n",
      "From: https://drive.google.com/uc?id=1dzL_SWBkBs5xrUxuGQTm04oe3USgkL9u\n",
<<<<<<< Updated upstream
      "To: /Users/riley/VSCode/HackBRASA/backend/bank.parquet\n",
      "100%|██████████| 1.57M/1.57M [00:00<00:00, 4.33MB/s]\n",
      "Downloading...\n",
      "From: https://drive.google.com/uc?id=1QK-VgSU3AxXUw330KjYFUj8S9hzKJsG6\n",
      "To: /Users/riley/VSCode/HackBRASA/backend/sales.parquet\n",
      "100%|██████████| 6.37M/6.37M [00:00<00:00, 16.8MB/s]\n",
      "Downloading...\n",
      "From: https://drive.google.com/uc?id=1JN0bR84sgZ_o4wjKPBUmz45NeEEkVgt7\n",
      "To: /Users/riley/VSCode/HackBRASA/backend/mcc.parquet\n",
      "100%|██████████| 57.3k/57.3k [00:00<00:00, 1.01MB/s]\n"
=======
      "To: /Users/michael/Desktop/Personal Projects/HackBRASA/backend/bank.parquet\n",
      "100%|██████████| 1.57M/1.57M [00:00<00:00, 14.2MB/s]\n",
      "Downloading...\n",
      "From: https://drive.google.com/uc?id=1QK-VgSU3AxXUw330KjYFUj8S9hzKJsG6\n",
      "To: /Users/michael/Desktop/Personal Projects/HackBRASA/backend/sales.parquet\n",
      "100%|██████████| 6.37M/6.37M [00:00<00:00, 22.5MB/s]\n",
      "Downloading...\n",
      "From: https://drive.google.com/uc?id=1JN0bR84sgZ_o4wjKPBUmz45NeEEkVgt7\n",
      "To: /Users/michael/Desktop/Personal Projects/HackBRASA/backend/mcc.parquet\n",
      "100%|██████████| 57.3k/57.3k [00:00<00:00, 1.73MB/s]\n"
>>>>>>> Stashed changes
     ]
    }
   ],
   "source": [
    "### Initial Setup: DO NOT RUN THIS CELL\n",
    "## Terminals (order): michael, riley, kensho\n",
    "\n",
    "import sys\n",
    "import os\n",
    "import pandas as pd\n",
    "import numpy as np\n",
    "import sklearn as sk\n",
    "import pyarrow as pa\n",
    "import gdown\n",
    "from IPython.display import display, HTML\n",
    "import altair as alt\n",
    "import sys\n",
    "import os\n",
    "\n",
    "data = {\n",
    "    'bank': \"1dzL_SWBkBs5xrUxuGQTm04oe3USgkL9u\",    # banking data\n",
    "    'sales': \"1QK-VgSU3AxXUw330KjYFUj8S9hzKJsG6\",   # sales data\n",
    "    'mcc': \"1JN0bR84sgZ_o4wjKPBUmz45NeEEkVgt7\",     # mcc description\n",
    "}\n",
    "\n",
    "# Download all files from Google Drive\n",
    "for name, file_id in data.items():\n",
    "    gdown.download(f'https://drive.google.com/uc?id={file_id}', name + '.parquet', quiet=False)\n",
    "    \n",
    "# Read all files and store on a dictionary of pandas dataframes\n",
    "df = {} \n",
    "for name in data.keys():\n",
    "    df[name] = pd.read_parquet(name + '.parquet')\n",
    "    \n",
    "# Set pandas option to display all columns\n",
    "pd.set_option('display.max_columns', None)\n",
    "\n",
    "# Custom CSS to enable horizontal scrolling\n",
    "scrolling_css = \"\"\"\n",
    "<style>\n",
    "    .dataframe-div {\n",
    "        overflow-x: auto;\n",
    "        white-space: nowrap;\n",
    "    }\n",
    "</style>\n",
    "\"\"\""
   ]
  },
  {
   "cell_type": "code",
   "execution_count": 2,
   "metadata": {},
   "outputs": [],
   "source": [
    "# Useful Functions\n",
    "def display_head_with_scroll(df, num_rows=5):\n",
    "    \"\"\"\n",
    "    Display a DataFrame with horizontal scrolling enabled.\n",
    "    \n",
    "    Parameters:\n",
    "    df (pd.DataFrame): The DataFrame to display.\n",
    "    num_rows (int): The number of rows to display. Default is 5.\n",
    "    \"\"\"\n",
    "    display(HTML(scrolling_css + df.head(num_rows).to_html(classes='dataframe-div')))\n",
    "\n",
    "import subprocess\n",
    "def require(package):\n",
    "    try:\n",
    "        # Try to import the package\n",
    "        globals()[package] = __import__(package)\n",
    "        return True\n",
    "    except ImportError:\n",
    "        print(f\"{package} is not installed. Trying to install via Homebrew...\")\n",
    "        try:\n",
    "            # Attempt to install the package using Homebrew\n",
    "            subprocess.check_call([\"brew\", \"install\", package])\n",
    "            # After installation, try importing again\n",
    "            globals()[package] = __import__(package)\n",
    "            return True\n",
    "        except subprocess.CalledProcessError:\n",
    "            print(f\"Failed to install {package} via Homebrew. Trying pip with --break-system-packages...\")\n",
    "            try:\n",
    "                # If Homebrew fails, try installing via pip with the break-system-packages flag\n",
    "                subprocess.check_call([sys.executable, \"-m\", \"pip\", \"install\", package, \"--break-system-packages\"])\n",
    "                globals()[package] = __import__(package)\n",
    "                return True\n",
    "            except ImportError:\n",
    "                print(f\"Failed to install {package}.\")\n",
    "                return False\n"
   ]
  },
  {
   "cell_type": "code",
<<<<<<< Updated upstream
   "execution_count": 4,
=======
   "execution_count": 3,
>>>>>>> Stashed changes
   "metadata": {},
   "outputs": [
    {
     "name": "stdout",
     "output_type": "stream",
     "text": [
      "(264933, 7)\n"
     ]
<<<<<<< Updated upstream
=======
    },
    {
     "data": {
      "text/html": [
       "\n",
       "<style>\n",
       "    .dataframe-div {\n",
       "        overflow-x: auto;\n",
       "        white-space: nowrap;\n",
       "    }\n",
       "</style>\n",
       "<table border=\"1\" class=\"dataframe dataframe-div\">\n",
       "  <thead>\n",
       "    <tr style=\"text-align: right;\">\n",
       "      <th></th>\n",
       "      <th>document_id</th>\n",
       "      <th>date_time</th>\n",
       "      <th>value</th>\n",
       "      <th>card_number</th>\n",
       "      <th>type</th>\n",
       "      <th>mcc</th>\n",
       "      <th>state</th>\n",
       "    </tr>\n",
       "  </thead>\n",
       "  <tbody>\n",
       "    <tr>\n",
       "      <th>0</th>\n",
       "      <td>9132021237731236867</td>\n",
       "      <td>2022-12-08 01:09:53.352600</td>\n",
       "      <td>240.0</td>\n",
       "      <td></td>\n",
       "      <td>Pix</td>\n",
       "      <td>5499</td>\n",
       "      <td>RN</td>\n",
       "    </tr>\n",
       "    <tr>\n",
       "      <th>1</th>\n",
       "      <td>9132021237731236867</td>\n",
       "      <td>2022-12-04 03:04:08.115900</td>\n",
       "      <td>88.0</td>\n",
       "      <td></td>\n",
       "      <td>Pix</td>\n",
       "      <td>5499</td>\n",
       "      <td>RN</td>\n",
       "    </tr>\n",
       "    <tr>\n",
       "      <th>2</th>\n",
       "      <td>9132021237731236867</td>\n",
       "      <td>2022-12-07 03:07:05.865600</td>\n",
       "      <td>76.0</td>\n",
       "      <td></td>\n",
       "      <td>Pix</td>\n",
       "      <td>5499</td>\n",
       "      <td>RN</td>\n",
       "    </tr>\n",
       "    <tr>\n",
       "      <th>3</th>\n",
       "      <td>9132021237731236867</td>\n",
       "      <td>2022-12-05 02:45:01.539400</td>\n",
       "      <td>48.0</td>\n",
       "      <td></td>\n",
       "      <td>Pix</td>\n",
       "      <td>5499</td>\n",
       "      <td>RN</td>\n",
       "    </tr>\n",
       "    <tr>\n",
       "      <th>4</th>\n",
       "      <td>9132021237731236867</td>\n",
       "      <td>2022-12-08 03:10:59.259900</td>\n",
       "      <td>8.0</td>\n",
       "      <td></td>\n",
       "      <td>Pix</td>\n",
       "      <td>5499</td>\n",
       "      <td>RN</td>\n",
       "    </tr>\n",
       "  </tbody>\n",
       "</table>"
      ],
      "text/plain": [
       "<IPython.core.display.HTML object>"
      ]
     },
     "metadata": {},
     "output_type": "display_data"
>>>>>>> Stashed changes
    }
   ],
   "source": [
    "print(df['sales'].shape)\n",
    "grouped_df = df['sales'].groupby(['document_id', 'state']).size().reset_index(name='transaction_count')\n",
    "grouped_df.to_csv('./data/grouped_data.csv', index=False)"
   ]
  },
  {
   "cell_type": "code",
   "execution_count": 4,
   "metadata": {},
   "outputs": [
    {
     "name": "stdout",
     "output_type": "stream",
     "text": [
      "(66189, 5)\n"
     ]
    },
    {
     "data": {
      "text/html": [
       "\n",
       "<style>\n",
       "    .dataframe-div {\n",
       "        overflow-x: auto;\n",
       "        white-space: nowrap;\n",
       "    }\n",
       "</style>\n",
       "<table border=\"1\" class=\"dataframe dataframe-div\">\n",
       "  <thead>\n",
       "    <tr style=\"text-align: right;\">\n",
       "      <th></th>\n",
       "      <th>document_id</th>\n",
       "      <th>date_time</th>\n",
       "      <th>value</th>\n",
       "      <th>counterparty_document</th>\n",
       "      <th>type</th>\n",
       "    </tr>\n",
       "  </thead>\n",
       "  <tbody>\n",
       "    <tr>\n",
       "      <th>0</th>\n",
       "      <td>5615027685943047372</td>\n",
       "      <td>2023-02-08 19:02:36.289545</td>\n",
       "      <td>400000.0</td>\n",
       "      <td>2701672467485454263</td>\n",
       "      <td>pix_in</td>\n",
       "    </tr>\n",
       "    <tr>\n",
       "      <th>1</th>\n",
       "      <td>6321206883189082161</td>\n",
       "      <td>2023-05-21 17:45:10.407340</td>\n",
       "      <td>330000.0</td>\n",
       "      <td>5674766186099233601</td>\n",
       "      <td>pix_in</td>\n",
       "    </tr>\n",
       "    <tr>\n",
       "      <th>2</th>\n",
       "      <td>6204525363384429949</td>\n",
       "      <td>2023-05-19 14:53:21.567099</td>\n",
       "      <td>200000.0</td>\n",
       "      <td>2193750750108086695</td>\n",
       "      <td>pix_out</td>\n",
       "    </tr>\n",
       "    <tr>\n",
       "      <th>3</th>\n",
       "      <td>6347736874608223396</td>\n",
       "      <td>2023-04-05 12:13:38.056087</td>\n",
       "      <td>200000.0</td>\n",
       "      <td>904790816053028747</td>\n",
       "      <td>pix_out</td>\n",
       "    </tr>\n",
       "    <tr>\n",
       "      <th>4</th>\n",
       "      <td>6347736874608223396</td>\n",
       "      <td>2023-04-07 23:44:04.727672</td>\n",
       "      <td>200000.0</td>\n",
       "      <td>904790816053028747</td>\n",
       "      <td>pix_out</td>\n",
       "    </tr>\n",
       "  </tbody>\n",
       "</table>"
      ],
      "text/plain": [
       "<IPython.core.display.HTML object>"
      ]
     },
     "metadata": {},
     "output_type": "display_data"
    }
   ],
   "source": [
    "print(df['bank'].shape)\n",
    "display_head_with_scroll(df['bank'])"
   ]
  },
  {
   "cell_type": "code",
   "execution_count": 5,
   "metadata": {},
   "outputs": [
    {
     "name": "stdout",
     "output_type": "stream",
     "text": [
      "(981, 6)\n"
     ]
    },
    {
     "data": {
      "text/html": [
       "\n",
       "<style>\n",
       "    .dataframe-div {\n",
       "        overflow-x: auto;\n",
       "        white-space: nowrap;\n",
       "    }\n",
       "</style>\n",
       "<table border=\"1\" class=\"dataframe dataframe-div\">\n",
       "  <thead>\n",
       "    <tr style=\"text-align: right;\">\n",
       "      <th></th>\n",
       "      <th>mcc</th>\n",
       "      <th>edited_description</th>\n",
       "      <th>combined_description</th>\n",
       "      <th>usda_description</th>\n",
       "      <th>irs_description</th>\n",
       "      <th>irs_reportable</th>\n",
       "    </tr>\n",
       "  </thead>\n",
       "  <tbody>\n",
       "    <tr>\n",
       "      <th>0</th>\n",
       "      <td>742</td>\n",
       "      <td>Veterinary Services</td>\n",
       "      <td>Veterinary Services</td>\n",
       "      <td>Veterinary Services</td>\n",
       "      <td>Veterinary Services</td>\n",
       "      <td>Yes</td>\n",
       "    </tr>\n",
       "    <tr>\n",
       "      <th>1</th>\n",
       "      <td>763</td>\n",
       "      <td>Agricultural Co-operatives</td>\n",
       "      <td>Agricultural Co-operatives</td>\n",
       "      <td>Agricultural Co-operatives</td>\n",
       "      <td>Agricultural Cooperative</td>\n",
       "      <td>Yes</td>\n",
       "    </tr>\n",
       "    <tr>\n",
       "      <th>2</th>\n",
       "      <td>780</td>\n",
       "      <td>Horticultural Services, Landscaping Services</td>\n",
       "      <td>Horticultural Services, Landscaping Services</td>\n",
       "      <td>Horticultural Services</td>\n",
       "      <td>Landscaping Services</td>\n",
       "      <td>Yes</td>\n",
       "    </tr>\n",
       "    <tr>\n",
       "      <th>3</th>\n",
       "      <td>1520</td>\n",
       "      <td>General Contractors-Residential and Commercial</td>\n",
       "      <td>General Contractors-Residential and Commercial</td>\n",
       "      <td>General Contractors-Residential and Commercial</td>\n",
       "      <td>General Contractors</td>\n",
       "      <td>Yes</td>\n",
       "    </tr>\n",
       "    <tr>\n",
       "      <th>4</th>\n",
       "      <td>1711</td>\n",
       "      <td>Air Conditioning Contractors – Sales and Installation, Heating Contractors – Sales, Service, Installation</td>\n",
       "      <td>Air Conditioning Contractors – Sales and Installation, Heating Contractors – Sales, Service, Installation</td>\n",
       "      <td>Air Conditioning Contractors – Sales and Installation</td>\n",
       "      <td>Heating, Plumbing, A/C</td>\n",
       "      <td>Yes</td>\n",
       "    </tr>\n",
       "  </tbody>\n",
       "</table>"
      ],
      "text/plain": [
       "<IPython.core.display.HTML object>"
      ]
     },
     "metadata": {},
     "output_type": "display_data"
    }
   ],
   "source": [
    "print(df['mcc'].shape)\n",
    "display_head_with_scroll(df['mcc'])"
   ]
  },
  {
   "cell_type": "code",
   "execution_count": 10,
   "metadata": {},
   "outputs": [
    {
     "name": "stdout",
     "output_type": "stream",
     "text": [
      "          document_id state  transaction_count state_id\n",
      "0    1898616423937443    AM               2982       AM\n",
      "1   10825678225686420    PR               2998       PR\n",
      "2   40944759436046065    SC               1819       SC\n",
      "3  150845804022381629    DF               2963       DF\n",
      "4  272221220503584164    SP               2191       SP\n",
      "dict_keys(['type', 'bbox', 'geometries'])\n",
      "[{'type': 'Polygon', 'properties': {'nome': 'Acre'}, 'id': 'AC', 'arcs': [[0, 1, 2]]}, {'type': 'Polygon', 'properties': {'nome': 'Alagoas'}, 'id': 'AL', 'arcs': [[3, 4, 5, 6]]}, {'type': 'Polygon', 'properties': {'nome': 'Amazonas'}, 'id': 'AM', 'arcs': [[7, 8, 9, 10, -1, 11]]}, {'type': 'Polygon', 'properties': {'nome': 'Amapá'}, 'id': 'AP', 'arcs': [[12, 13]]}, {'type': 'Polygon', 'properties': {'nome': 'Bahia'}, 'id': 'BA', 'arcs': [[-6, 14, 15, 16, 17, 18, 19, 20, 21, 22, 23]]}]\n"
     ]
    },
    {
     "ename": "ImportError",
     "evalue": "The vl-convert Vega-Lite compiler and file export feature requires\nversion 1.6.0 or greater of the 'vl-convert-python' package. \nThis can be installed with pip using:\n   pip install \"vl-convert-python>=1.6.0\"\nor conda:\n   conda install -c conda-forge \"vl-convert-python>=1.6.0\"\n\nImportError: dlopen(/Library/Frameworks/Python.framework/Versions/3.11/lib/python3.11/site-packages/vl_convert/vl_convert.abi3.so, 0x0002): symbol not found in flat namespace '_PyPyBool_Type'",
     "output_type": "error",
     "traceback": [
      "\u001b[0;31m---------------------------------------------------------------------------\u001b[0m",
      "\u001b[0;31mImportError\u001b[0m                               Traceback (most recent call last)",
      "File \u001b[0;32m/Library/Frameworks/Python.framework/Versions/3.11/lib/python3.11/site-packages/altair/utils/_importers.py:53\u001b[0m, in \u001b[0;36mimport_vl_convert\u001b[0;34m()\u001b[0m\n\u001b[1;32m     52\u001b[0m     \u001b[38;5;28;01mraise\u001b[39;00m \u001b[38;5;167;01mRuntimeError\u001b[39;00m(msg)\n\u001b[0;32m---> 53\u001b[0m \u001b[38;5;28;01mimport\u001b[39;00m \u001b[38;5;21;01mvl_convert\u001b[39;00m \u001b[38;5;28;01mas\u001b[39;00m \u001b[38;5;21;01mvlc\u001b[39;00m\n\u001b[1;32m     55\u001b[0m \u001b[38;5;28;01mreturn\u001b[39;00m vlc\n",
      "File \u001b[0;32m/Library/Frameworks/Python.framework/Versions/3.11/lib/python3.11/site-packages/vl_convert/__init__.py:1\u001b[0m\n\u001b[0;32m----> 1\u001b[0m \u001b[38;5;28;01mfrom\u001b[39;00m \u001b[38;5;21;01m.\u001b[39;00m\u001b[38;5;21;01mvl_convert\u001b[39;00m \u001b[38;5;28;01mimport\u001b[39;00m \u001b[38;5;241m*\u001b[39m\n\u001b[1;32m      3\u001b[0m \u001b[38;5;18m__doc__\u001b[39m \u001b[38;5;241m=\u001b[39m vl_convert\u001b[38;5;241m.\u001b[39m\u001b[38;5;18m__doc__\u001b[39m\n",
      "\u001b[0;31mImportError\u001b[0m: dlopen(/Library/Frameworks/Python.framework/Versions/3.11/lib/python3.11/site-packages/vl_convert/vl_convert.abi3.so, 0x0002): symbol not found in flat namespace '_PyPyBool_Type'",
      "\nThe above exception was the direct cause of the following exception:\n",
      "\u001b[0;31mImportError\u001b[0m                               Traceback (most recent call last)",
      "File \u001b[0;32m~/Library/Python/3.11/lib/python/site-packages/IPython/core/formatters.py:977\u001b[0m, in \u001b[0;36mMimeBundleFormatter.__call__\u001b[0;34m(self, obj, include, exclude)\u001b[0m\n\u001b[1;32m    974\u001b[0m     method \u001b[38;5;241m=\u001b[39m get_real_method(obj, \u001b[38;5;28mself\u001b[39m\u001b[38;5;241m.\u001b[39mprint_method)\n\u001b[1;32m    976\u001b[0m     \u001b[38;5;28;01mif\u001b[39;00m method \u001b[38;5;129;01mis\u001b[39;00m \u001b[38;5;129;01mnot\u001b[39;00m \u001b[38;5;28;01mNone\u001b[39;00m:\n\u001b[0;32m--> 977\u001b[0m         \u001b[38;5;28;01mreturn\u001b[39;00m \u001b[43mmethod\u001b[49m\u001b[43m(\u001b[49m\u001b[43minclude\u001b[49m\u001b[38;5;241;43m=\u001b[39;49m\u001b[43minclude\u001b[49m\u001b[43m,\u001b[49m\u001b[43m \u001b[49m\u001b[43mexclude\u001b[49m\u001b[38;5;241;43m=\u001b[39;49m\u001b[43mexclude\u001b[49m\u001b[43m)\u001b[49m\n\u001b[1;32m    978\u001b[0m     \u001b[38;5;28;01mreturn\u001b[39;00m \u001b[38;5;28;01mNone\u001b[39;00m\n\u001b[1;32m    979\u001b[0m \u001b[38;5;28;01melse\u001b[39;00m:\n",
      "File \u001b[0;32m/Library/Frameworks/Python.framework/Versions/3.11/lib/python3.11/site-packages/altair/vegalite/v5/api.py:3411\u001b[0m, in \u001b[0;36mTopLevelMixin._repr_mimebundle_\u001b[0;34m(self, *args, **kwds)\u001b[0m\n\u001b[1;32m   3409\u001b[0m \u001b[38;5;28;01melse\u001b[39;00m:\n\u001b[1;32m   3410\u001b[0m     \u001b[38;5;28;01mif\u001b[39;00m renderer \u001b[38;5;241m:=\u001b[39m renderers\u001b[38;5;241m.\u001b[39mget():\n\u001b[0;32m-> 3411\u001b[0m         \u001b[38;5;28;01mreturn\u001b[39;00m \u001b[43mrenderer\u001b[49m\u001b[43m(\u001b[49m\u001b[43mdct\u001b[49m\u001b[43m)\u001b[49m\n",
      "File \u001b[0;32m/Library/Frameworks/Python.framework/Versions/3.11/lib/python3.11/site-packages/altair/utils/display.py:225\u001b[0m, in \u001b[0;36mHTMLRenderer.__call__\u001b[0;34m(self, spec, **metadata)\u001b[0m\n\u001b[1;32m    223\u001b[0m kwargs \u001b[38;5;241m=\u001b[39m \u001b[38;5;28mself\u001b[39m\u001b[38;5;241m.\u001b[39mkwargs\u001b[38;5;241m.\u001b[39mcopy()\n\u001b[1;32m    224\u001b[0m kwargs\u001b[38;5;241m.\u001b[39mupdate(\u001b[38;5;241m*\u001b[39m\u001b[38;5;241m*\u001b[39mmetadata, output_div\u001b[38;5;241m=\u001b[39m\u001b[38;5;28mself\u001b[39m\u001b[38;5;241m.\u001b[39moutput_div)\n\u001b[0;32m--> 225\u001b[0m \u001b[38;5;28;01mreturn\u001b[39;00m \u001b[43mspec_to_mimebundle\u001b[49m\u001b[43m(\u001b[49m\u001b[43mspec\u001b[49m\u001b[43m,\u001b[49m\u001b[43m \u001b[49m\u001b[38;5;28;43mformat\u001b[39;49m\u001b[38;5;241;43m=\u001b[39;49m\u001b[38;5;124;43m\"\u001b[39;49m\u001b[38;5;124;43mhtml\u001b[39;49m\u001b[38;5;124;43m\"\u001b[39;49m\u001b[43m,\u001b[49m\u001b[43m \u001b[49m\u001b[38;5;241;43m*\u001b[39;49m\u001b[38;5;241;43m*\u001b[39;49m\u001b[43mkwargs\u001b[49m\u001b[43m)\u001b[49m\n",
      "File \u001b[0;32m/Library/Frameworks/Python.framework/Versions/3.11/lib/python3.11/site-packages/altair/utils/mimebundle.py:122\u001b[0m, in \u001b[0;36mspec_to_mimebundle\u001b[0;34m(spec, format, mode, vega_version, vegaembed_version, vegalite_version, embed_options, engine, **kwargs)\u001b[0m\n\u001b[1;32m    120\u001b[0m internal_mode: Literal[\u001b[38;5;124m\"\u001b[39m\u001b[38;5;124mvega-lite\u001b[39m\u001b[38;5;124m\"\u001b[39m, \u001b[38;5;124m\"\u001b[39m\u001b[38;5;124mvega\u001b[39m\u001b[38;5;124m\"\u001b[39m] \u001b[38;5;241m=\u001b[39m mode\n\u001b[1;32m    121\u001b[0m \u001b[38;5;28;01mif\u001b[39;00m using_vegafusion():\n\u001b[0;32m--> 122\u001b[0m     spec \u001b[38;5;241m=\u001b[39m \u001b[43mcompile_with_vegafusion\u001b[49m\u001b[43m(\u001b[49m\u001b[43mspec\u001b[49m\u001b[43m)\u001b[49m\n\u001b[1;32m    123\u001b[0m     internal_mode \u001b[38;5;241m=\u001b[39m \u001b[38;5;124m\"\u001b[39m\u001b[38;5;124mvega\u001b[39m\u001b[38;5;124m\"\u001b[39m\n\u001b[1;32m    125\u001b[0m \u001b[38;5;66;03m# Default to the embed options set by alt.renderers.set_embed_options\u001b[39;00m\n",
      "File \u001b[0;32m/Library/Frameworks/Python.framework/Versions/3.11/lib/python3.11/site-packages/altair/utils/_vegafusion_data.py:249\u001b[0m, in \u001b[0;36mcompile_with_vegafusion\u001b[0;34m(vegalite_spec)\u001b[0m\n\u001b[1;32m    246\u001b[0m     msg \u001b[38;5;241m=\u001b[39m \u001b[38;5;124m\"\u001b[39m\u001b[38;5;124mNo active vega-lite compiler plugin found\u001b[39m\u001b[38;5;124m\"\u001b[39m\n\u001b[1;32m    247\u001b[0m     \u001b[38;5;28;01mraise\u001b[39;00m \u001b[38;5;167;01mValueError\u001b[39;00m(msg)\n\u001b[0;32m--> 249\u001b[0m vega_spec \u001b[38;5;241m=\u001b[39m \u001b[43mcompiler\u001b[49m\u001b[43m(\u001b[49m\u001b[43mvegalite_spec\u001b[49m\u001b[43m)\u001b[49m\n\u001b[1;32m    251\u001b[0m \u001b[38;5;66;03m# Retrieve dict of inline tables referenced by the spec\u001b[39;00m\n\u001b[1;32m    252\u001b[0m inline_tables \u001b[38;5;241m=\u001b[39m get_inline_tables(vega_spec)\n",
      "File \u001b[0;32m/Library/Frameworks/Python.framework/Versions/3.11/lib/python3.11/site-packages/altair/vegalite/v5/compiler.py:14\u001b[0m, in \u001b[0;36mvl_convert_compiler\u001b[0;34m(vegalite_spec)\u001b[0m\n\u001b[1;32m     11\u001b[0m \u001b[38;5;250m\u001b[39m\u001b[38;5;124;03m\"\"\"Vega-Lite to Vega compiler that uses vl-convert.\"\"\"\u001b[39;00m\n\u001b[1;32m     12\u001b[0m \u001b[38;5;28;01mfrom\u001b[39;00m \u001b[38;5;21;01m.\u001b[39;00m \u001b[38;5;28;01mimport\u001b[39;00m SCHEMA_VERSION\n\u001b[0;32m---> 14\u001b[0m vlc \u001b[38;5;241m=\u001b[39m \u001b[43mimport_vl_convert\u001b[49m\u001b[43m(\u001b[49m\u001b[43m)\u001b[49m\n\u001b[1;32m     16\u001b[0m \u001b[38;5;66;03m# Compute vl-convert's vl_version string (of the form 'v5_8')\u001b[39;00m\n\u001b[1;32m     17\u001b[0m \u001b[38;5;66;03m# from SCHEMA_VERSION (of the form 'v5.8.0')\u001b[39;00m\n\u001b[1;32m     18\u001b[0m vl_version \u001b[38;5;241m=\u001b[39m \u001b[38;5;124m\"\u001b[39m\u001b[38;5;124m_\u001b[39m\u001b[38;5;124m\"\u001b[39m\u001b[38;5;241m.\u001b[39mjoin(SCHEMA_VERSION\u001b[38;5;241m.\u001b[39msplit(\u001b[38;5;124m\"\u001b[39m\u001b[38;5;124m.\u001b[39m\u001b[38;5;124m\"\u001b[39m)[:\u001b[38;5;241m2\u001b[39m])\n",
      "File \u001b[0;32m/Library/Frameworks/Python.framework/Versions/3.11/lib/python3.11/site-packages/altair/utils/_importers.py:66\u001b[0m, in \u001b[0;36mimport_vl_convert\u001b[0;34m()\u001b[0m\n\u001b[1;32m     56\u001b[0m \u001b[38;5;28;01mexcept\u001b[39;00m \u001b[38;5;167;01mImportError\u001b[39;00m \u001b[38;5;28;01mas\u001b[39;00m err:\n\u001b[1;32m     57\u001b[0m     msg \u001b[38;5;241m=\u001b[39m (\n\u001b[1;32m     58\u001b[0m         \u001b[38;5;124mf\u001b[39m\u001b[38;5;124m\"\u001b[39m\u001b[38;5;124mThe vl-convert Vega-Lite compiler and file export feature requires\u001b[39m\u001b[38;5;130;01m\\n\u001b[39;00m\u001b[38;5;124m\"\u001b[39m\n\u001b[1;32m     59\u001b[0m         \u001b[38;5;124mf\u001b[39m\u001b[38;5;124m\"\u001b[39m\u001b[38;5;124mversion \u001b[39m\u001b[38;5;132;01m{\u001b[39;00mmin_version\u001b[38;5;132;01m}\u001b[39;00m\u001b[38;5;124m or greater of the \u001b[39m\u001b[38;5;124m'\u001b[39m\u001b[38;5;124mvl-convert-python\u001b[39m\u001b[38;5;124m'\u001b[39m\u001b[38;5;124m package. \u001b[39m\u001b[38;5;130;01m\\n\u001b[39;00m\u001b[38;5;124m\"\u001b[39m\n\u001b[0;32m   (...)\u001b[0m\n\u001b[1;32m     64\u001b[0m         \u001b[38;5;124mf\u001b[39m\u001b[38;5;124m\"\u001b[39m\u001b[38;5;124mImportError: \u001b[39m\u001b[38;5;132;01m{\u001b[39;00merr\u001b[38;5;241m.\u001b[39margs[\u001b[38;5;241m0\u001b[39m]\u001b[38;5;132;01m}\u001b[39;00m\u001b[38;5;124m\"\u001b[39m\n\u001b[1;32m     65\u001b[0m     )\n\u001b[0;32m---> 66\u001b[0m     \u001b[38;5;28;01mraise\u001b[39;00m \u001b[38;5;167;01mImportError\u001b[39;00m(msg) \u001b[38;5;28;01mfrom\u001b[39;00m \u001b[38;5;21;01merr\u001b[39;00m\n",
      "\u001b[0;31mImportError\u001b[0m: The vl-convert Vega-Lite compiler and file export feature requires\nversion 1.6.0 or greater of the 'vl-convert-python' package. \nThis can be installed with pip using:\n   pip install \"vl-convert-python>=1.6.0\"\nor conda:\n   conda install -c conda-forge \"vl-convert-python>=1.6.0\"\n\nImportError: dlopen(/Library/Frameworks/Python.framework/Versions/3.11/lib/python3.11/site-packages/vl_convert/vl_convert.abi3.so, 0x0002): symbol not found in flat namespace '_PyPyBool_Type'"
     ]
    },
    {
     "data": {
      "text/plain": [
       "alt.Chart(...)"
      ]
     },
     "execution_count": 10,
     "metadata": {},
     "output_type": "execute_result"
    }
   ],
   "source": [
    "import altair as alt\n",
    "import json\n",
    "import pandas as pd\n",
    "import vegafusion\n",
    "\n",
    "# Load the JSON data\n",
    "with open('data/br-states.json', 'r') as file:\n",
    "    statesdata = json.load(file)\n",
    "\n",
    "# Enable dark theme\n",
    "# alt.themes.enable(\"dark\")\n",
    "\n",
    "# Print the first few rows of grouped_df to ensure it is correct\n",
    "print(grouped_df.head())\n",
    "\n",
    "# Print the structure of the TopoJSON data to ensure it is correct\n",
    "print(statesdata['objects']['estados'].keys())\n",
    "\n",
    "# Print the first few geometries to inspect the IDs\n",
    "print(statesdata['objects']['estados']['geometries'][:5])\n",
    "\n",
    "# Enable vegafusion data transformer\n",
    "alt.data_transformers.enable(\"vegafusion\")\n",
    "\n",
    "# Convert the JSON data to a TopoJSON feature\n",
    "states = alt.topo_feature('data/br-states.json', 'estados')  # Ensure 'objects.estados' matches your TopoJSON structure\n",
    "\n",
    "# Assuming the TopoJSON uses state abbreviations as IDs, create a mapping\n",
    "state_id_map = {\n",
    "    'RN': 'Rio Grande do Norte',\n",
    "    'SC': 'Santa Catarina',\n",
    "    'RS': 'Rio Grande do Sul',\n",
    "    'PR': 'Paraná',\n",
    "    'RJ': 'Rio de Janeiro',\n",
    "    'SP': 'São Paulo',\n",
    "    'MG': 'Minas Gerais',\n",
    "    'CE': 'Ceará',\n",
    "    'MT': 'Mato Grosso',\n",
    "    'DF': 'Distrito Federal',\n",
    "    'RR': 'Roraima',\n",
    "    'AL': 'Alagoas',\n",
    "    'GO': 'Goiás',\n",
    "    'SE': 'Sergipe',\n",
    "    'PE': 'Pernambuco',\n",
    "    'PB': 'Paraíba',\n",
    "    'BA': 'Bahia',\n",
    "    'AC': 'Acre',\n",
    "    'AM': 'Amazonas',\n",
    "    'ES': 'Espírito Santo',\n",
    "    'PA': 'Pará',\n",
    "    'PI': 'Piauí'\n",
    "}\n",
    "\n",
    "# Map the state abbreviations to the IDs used in the TopoJSON\n",
    "grouped_df['state_id'] = grouped_df['state']\n",
    "\n",
    "# Create the chart\n",
    "chart = alt.Chart(states).mark_geoshape().encode(\n",
    "    color=alt.Color('transaction_count:Q', scale=alt.Scale(scheme='blues')),\n",
    "    stroke=alt.value('#154360')\n",
    ").transform_lookup(\n",
    "    lookup='id',  # Use 'id' field from TopoJSON\n",
    "    from_=alt.LookupData(grouped_df, 'state', ['transaction_count'])\n",
    ").properties(\n",
    "    width=500,\n",
    "    height=300\n",
    ").project(\n",
    "    type='mercator'  # Changed to 'mercator' for a more general projection\n",
    ")\n",
    "\n",
<<<<<<< Updated upstream
    "chart"
=======
    "chart\n",
    "  "
>>>>>>> Stashed changes
   ]
  }
 ],
 "metadata": {
  "kernelspec": {
   "display_name": "Python 3",
   "language": "python",
   "name": "python3"
  },
  "language_info": {
   "codemirror_mode": {
    "name": "ipython",
    "version": 3
   },
   "file_extension": ".py",
   "mimetype": "text/x-python",
   "name": "python",
   "nbconvert_exporter": "python",
   "pygments_lexer": "ipython3",
   "version": "3.11.5"
  }
 },
 "nbformat": 4,
 "nbformat_minor": 2
}
