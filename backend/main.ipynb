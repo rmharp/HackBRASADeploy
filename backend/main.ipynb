{
 "cells": [
  {
   "cell_type": "code",
   "execution_count": 31,
   "metadata": {},
   "outputs": [
    {
     "name": "stderr",
     "output_type": "stream",
     "text": [
      "Downloading...\n",
      "From: https://drive.google.com/uc?id=1dzL_SWBkBs5xrUxuGQTm04oe3USgkL9u\n",
      "To: /Users/riley/VSCode/HackBRASA/backend/bank.parquet\n",
      "100%|██████████| 1.57M/1.57M [00:00<00:00, 10.1MB/s]\n",
      "Downloading...\n",
      "From: https://drive.google.com/uc?id=1QK-VgSU3AxXUw330KjYFUj8S9hzKJsG6\n",
      "To: /Users/riley/VSCode/HackBRASA/backend/sales.parquet\n",
      "100%|██████████| 6.37M/6.37M [00:00<00:00, 19.5MB/s]\n",
      "Downloading...\n",
      "From: https://drive.google.com/uc?id=1JN0bR84sgZ_o4wjKPBUmz45NeEEkVgt7\n",
      "To: /Users/riley/VSCode/HackBRASA/backend/mcc.parquet\n",
      "100%|██████████| 57.3k/57.3k [00:00<00:00, 1.79MB/s]\n"
     ]
    }
   ],
   "source": [
    "### Initial Setup: DO NOT RUN THIS CELL\n",
    "## Terminals (order): michael, riley, kensho\n",
    "#Test\n",
    "import sys\n",
    "import os\n",
    "\n",
    "sys.path.append(os.path.abspath(os.path.join(os.getcwd(), '../..')))\n",
    "\n",
    "from require import require\n",
    "\n",
    "import pandas as pd\n",
    "import numpy as np\n",
    "import sklearn as sk\n",
    "import pyarrow as pa\n",
    "import gdown\n",
    "from IPython.display import display, HTML\n",
    "\n",
    "data = {\n",
    "    'bank': \"1dzL_SWBkBs5xrUxuGQTm04oe3USgkL9u\",    # banking data\n",
    "    'sales': \"1QK-VgSU3AxXUw330KjYFUj8S9hzKJsG6\",   # sales data\n",
    "    'mcc': \"1JN0bR84sgZ_o4wjKPBUmz45NeEEkVgt7\",     # mcc description\n",
    "}\n",
    "\n",
    "# Download all files from Google Drive\n",
    "for name, file_id in data.items():\n",
    "    gdown.download(f'https://drive.google.com/uc?id={file_id}', name + '.parquet', quiet=False)\n",
    "    \n",
    "# Read all files and store on a dictionary of pandas dataframes\n",
    "df = {}\n",
    "for name in data.keys():\n",
    "    df[name] = pd.read_parquet(name + '.parquet')\n",
    "    \n",
    "# Set pandas option to display all columns\n",
    "pd.set_option('display.max_columns', None)\n",
    "\n",
    "# Custom CSS to enable horizontal scrolling\n",
    "scrolling_css = \"\"\"\n",
    "<style>\n",
    "    .dataframe-div {\n",
    "        overflow-x: auto;\n",
    "        white-space: nowrap;\n",
    "    }\n",
    "</style>\n",
    "\"\"\""
   ]
  },
  {
   "cell_type": "code",
   "execution_count": null,
   "metadata": {},
   "outputs": [],
   "source": [
    "git push -u origin main"
   ]
  },
  {
   "cell_type": "code",
   "execution_count": null,
   "metadata": {},
   "outputs": [],
   "source": [
    "git push -u origin main"
   ]
  },
  {
   "cell_type": "code",
   "execution_count": 36,
   "metadata": {},
   "outputs": [],
   "source": [
    "# Useful Functions\n",
    "def display_head_with_scroll(df, num_rows=5):\n",
    "    \"\"\"\n",
    "    Display a DataFrame with horizontal scrolling enabled.\n",
    "    \n",
    "    Parameters:\n",
    "    df (pd.DataFrame): The DataFrame to display.\n",
    "    num_rows (int): The number of rows to display. Default is 5.\n",
    "    \"\"\"\n",
    "    display(HTML(scrolling_css + df.head(num_rows).to_html(classes='dataframe-div')))"
   ]
  },
  {
   "cell_type": "code",
   "execution_count": 44,
   "metadata": {},
   "outputs": [
    {
     "data": {
      "text/html": [
       "\n",
       "<style>\n",
       "    .dataframe-div {\n",
       "        overflow-x: auto;\n",
       "        white-space: nowrap;\n",
       "    }\n",
       "</style>\n",
       "<table border=\"1\" class=\"dataframe dataframe-div\">\n",
       "  <thead>\n",
       "    <tr style=\"text-align: right;\">\n",
       "      <th></th>\n",
       "      <th>document_id</th>\n",
       "      <th>date_time</th>\n",
       "      <th>value</th>\n",
       "      <th>card_number</th>\n",
       "      <th>type</th>\n",
       "      <th>mcc</th>\n",
       "      <th>state</th>\n",
       "    </tr>\n",
       "  </thead>\n",
       "  <tbody>\n",
       "    <tr>\n",
       "      <th>0</th>\n",
       "      <td>9132021237731236867</td>\n",
       "      <td>2022-12-08 01:09:53.352600</td>\n",
       "      <td>240.0</td>\n",
       "      <td></td>\n",
       "      <td>Pix</td>\n",
       "      <td>5499</td>\n",
       "      <td>RN</td>\n",
       "    </tr>\n",
       "    <tr>\n",
       "      <th>1</th>\n",
       "      <td>9132021237731236867</td>\n",
       "      <td>2022-12-04 03:04:08.115900</td>\n",
       "      <td>88.0</td>\n",
       "      <td></td>\n",
       "      <td>Pix</td>\n",
       "      <td>5499</td>\n",
       "      <td>RN</td>\n",
       "    </tr>\n",
       "    <tr>\n",
       "      <th>2</th>\n",
       "      <td>9132021237731236867</td>\n",
       "      <td>2022-12-07 03:07:05.865600</td>\n",
       "      <td>76.0</td>\n",
       "      <td></td>\n",
       "      <td>Pix</td>\n",
       "      <td>5499</td>\n",
       "      <td>RN</td>\n",
       "    </tr>\n",
       "    <tr>\n",
       "      <th>3</th>\n",
       "      <td>9132021237731236867</td>\n",
       "      <td>2022-12-05 02:45:01.539400</td>\n",
       "      <td>48.0</td>\n",
       "      <td></td>\n",
       "      <td>Pix</td>\n",
       "      <td>5499</td>\n",
       "      <td>RN</td>\n",
       "    </tr>\n",
       "    <tr>\n",
       "      <th>4</th>\n",
       "      <td>9132021237731236867</td>\n",
       "      <td>2022-12-08 03:10:59.259900</td>\n",
       "      <td>8.0</td>\n",
       "      <td></td>\n",
       "      <td>Pix</td>\n",
       "      <td>5499</td>\n",
       "      <td>RN</td>\n",
       "    </tr>\n",
       "  </tbody>\n",
       "</table>"
      ],
      "text/plain": [
       "<IPython.core.display.HTML object>"
      ]
     },
     "metadata": {},
     "output_type": "display_data"
    }
   ],
   "source": [
    "display_head_with_scroll(df['sales'])"
   ]
  },
  {
   "cell_type": "code",
   "execution_count": 45,
   "metadata": {},
   "outputs": [
    {
     "data": {
      "text/html": [
       "\n",
       "<style>\n",
       "    .dataframe-div {\n",
       "        overflow-x: auto;\n",
       "        white-space: nowrap;\n",
       "    }\n",
       "</style>\n",
       "<table border=\"1\" class=\"dataframe dataframe-div\">\n",
       "  <thead>\n",
       "    <tr style=\"text-align: right;\">\n",
       "      <th></th>\n",
       "      <th>document_id</th>\n",
       "      <th>date_time</th>\n",
       "      <th>value</th>\n",
       "      <th>counterparty_document</th>\n",
       "      <th>type</th>\n",
       "    </tr>\n",
       "  </thead>\n",
       "  <tbody>\n",
       "    <tr>\n",
       "      <th>0</th>\n",
       "      <td>5615027685943047372</td>\n",
       "      <td>2023-02-08 19:02:36.289545</td>\n",
       "      <td>400000.0</td>\n",
       "      <td>2701672467485454263</td>\n",
       "      <td>pix_in</td>\n",
       "    </tr>\n",
       "    <tr>\n",
       "      <th>1</th>\n",
       "      <td>6321206883189082161</td>\n",
       "      <td>2023-05-21 17:45:10.407340</td>\n",
       "      <td>330000.0</td>\n",
       "      <td>5674766186099233601</td>\n",
       "      <td>pix_in</td>\n",
       "    </tr>\n",
       "    <tr>\n",
       "      <th>2</th>\n",
       "      <td>6204525363384429949</td>\n",
       "      <td>2023-05-19 14:53:21.567099</td>\n",
       "      <td>200000.0</td>\n",
       "      <td>2193750750108086695</td>\n",
       "      <td>pix_out</td>\n",
       "    </tr>\n",
       "    <tr>\n",
       "      <th>3</th>\n",
       "      <td>6347736874608223396</td>\n",
       "      <td>2023-04-05 12:13:38.056087</td>\n",
       "      <td>200000.0</td>\n",
       "      <td>904790816053028747</td>\n",
       "      <td>pix_out</td>\n",
       "    </tr>\n",
       "    <tr>\n",
       "      <th>4</th>\n",
       "      <td>6347736874608223396</td>\n",
       "      <td>2023-04-07 23:44:04.727672</td>\n",
       "      <td>200000.0</td>\n",
       "      <td>904790816053028747</td>\n",
       "      <td>pix_out</td>\n",
       "    </tr>\n",
       "  </tbody>\n",
       "</table>"
      ],
      "text/plain": [
       "<IPython.core.display.HTML object>"
      ]
     },
     "metadata": {},
     "output_type": "display_data"
    }
   ],
   "source": [
    "display_head_with_scroll(df['bank'])"
   ]
  },
  {
   "cell_type": "code",
   "execution_count": 46,
   "metadata": {},
   "outputs": [
    {
     "data": {
      "text/plain": [
       "82"
      ]
     },
     "execution_count": 46,
     "metadata": {},
     "output_type": "execute_result"
    }
   ],
   "source": [
    "#1 See if sales and bank dataframes share any id's\n",
    "\n",
    "# Check if there are any shared IDs\n",
    "shared_ids = df['sales']['document_id'].isin(df['bank']['document_id'])\n",
    "# Get the actual shared IDs\n",
    "shared_ids_list = df['sales'][df['sales']['document_id'].isin(df['bank']['document_id'])]['document_id'].unique()\n",
    "\n",
    "len(shared_ids_list)\n",
    "\n",
    "#print(\"Shared IDs:\", shared_ids_list)\n",
    "\n",
    "#2 Perform a left join of the MCC dictionary into sales dataframe on shared column 'mcc'\n",
    "\n",
    "\n",
    "# Perform a left join of the MCC dictionary (mcc_df) into sales_df on the 'mcc' column\n",
    "sales_with_mcc_df = pd.merge(df['sales'], df['mcc'], on='mcc', how='left')\n",
    "\n",
    "# Display the resulting DataFrame\n",
    "#print(sales_with_mcc_df.head())merged_df = pd.merge(df['mcc'], df['sales'], on=\"mcc\", how=\"left\")"
   ]
  },
  {
   "cell_type": "code",
   "execution_count": null,
   "metadata": {},
   "outputs": [],
   "source": []
  }
 ],
 "metadata": {
  "kernelspec": {
   "display_name": "Python 3",
   "language": "python",
   "name": "python3"
  },
  "language_info": {
   "codemirror_mode": {
    "name": "ipython",
    "version": 3
   },
   "file_extension": ".py",
   "mimetype": "text/x-python",
   "name": "python",
   "nbconvert_exporter": "python",
   "pygments_lexer": "ipython3",
   "version": "3.12.4"
  }
 },
 "nbformat": 4,
 "nbformat_minor": 2
}
